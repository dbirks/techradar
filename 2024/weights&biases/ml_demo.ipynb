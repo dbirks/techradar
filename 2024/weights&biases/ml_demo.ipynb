{
  "cells": [
    {
      "cell_type": "markdown",
      "metadata": {
        "id": "view-in-github",
        "colab_type": "text"
      },
      "source": [
        "<a href=\"https://colab.research.google.com/github/dbirks/techradar/blob/main/2024/weights%26biases/ml_demo.ipynb\" target=\"_parent\"><img src=\"https://colab.research.google.com/assets/colab-badge.svg\" alt=\"Open In Colab\"/></a>"
      ]
    },
    {
      "cell_type": "code",
      "execution_count": null,
      "metadata": {
        "vscode": {
          "languageId": "plaintext"
        },
        "id": "giC8EGRn1r03"
      },
      "outputs": [],
      "source": [
        "import numpy as np\n",
        "import structlog\n",
        "import wandb\n",
        "from sklearn import datasets\n",
        "from sklearn.ensemble import RandomForestClassifier\n",
        "from sklearn.model_selection import train_test_split\n",
        "from wandb.sklearn import (\n",
        "    plot_class_proportions,\n",
        "    plot_feature_importances,\n",
        "    plot_learning_curve,\n",
        "    plot_precision_recall,\n",
        "    plot_roc,\n",
        ")"
      ]
    },
    {
      "cell_type": "code",
      "execution_count": null,
      "metadata": {
        "vscode": {
          "languageId": "plaintext"
        },
        "id": "LfRmyvlx1r08"
      },
      "outputs": [],
      "source": [
        "wandb_project = \"ml-demo-a\"\n"
      ]
    },
    {
      "cell_type": "code",
      "execution_count": null,
      "metadata": {
        "vscode": {
          "languageId": "plaintext"
        },
        "id": "-8EeWJR31r09"
      },
      "outputs": [],
      "source": [
        "# load and process data\n",
        "wbcd = datasets.load_breast_cancer()\n",
        "feature_names = wbcd.feature_names\n",
        "labels = wbcd.target_names\n",
        "\n",
        "test_size = 0.2\n",
        "X_train, X_test, y_train, y_test = train_test_split(\n",
        "    wbcd.data, wbcd.target, test_size=test_size\n",
        ")"
      ]
    },
    {
      "cell_type": "code",
      "execution_count": null,
      "metadata": {
        "vscode": {
          "languageId": "plaintext"
        },
        "id": "ASzz8kaQ1r09"
      },
      "outputs": [],
      "source": [
        "# train model\n",
        "model = RandomForestClassifier()\n",
        "model.fit(X_train, y_train)\n",
        "model_params = model.get_params()"
      ]
    },
    {
      "cell_type": "code",
      "execution_count": null,
      "metadata": {
        "vscode": {
          "languageId": "plaintext"
        },
        "id": "Wxd1fD981r0-"
      },
      "outputs": [],
      "source": [
        "# get predictions\n",
        "y_pred = model.predict(X_test)\n",
        "y_probas = model.predict_proba(X_test)\n",
        "importances = model.feature_importances_\n",
        "indices = np.argsort(importances)[::-1]"
      ]
    },
    {
      "cell_type": "code",
      "execution_count": null,
      "metadata": {
        "vscode": {
          "languageId": "plaintext"
        },
        "id": "vaCGIQ161r0_"
      },
      "outputs": [],
      "source": [
        "# start a new wandb run and add your model hyperparameters\n",
        "wandb.init(project=wandb_project, config=model_params)"
      ]
    },
    {
      "cell_type": "code",
      "execution_count": null,
      "metadata": {
        "vscode": {
          "languageId": "plaintext"
        },
        "id": "CZGmLjPk1r1A"
      },
      "outputs": [],
      "source": [
        "# Add additional configs to wandb\n",
        "wandb.config.update(\n",
        "    {\"test_size\": test_size, \"train_len\": len(X_train), \"test_len\": len(X_test)}\n",
        ")"
      ]
    },
    {
      "cell_type": "code",
      "execution_count": null,
      "metadata": {
        "vscode": {
          "languageId": "plaintext"
        },
        "id": "VgZWMvtE1r1A"
      },
      "outputs": [],
      "source": [
        "# log additional visualisations to wandb\n",
        "plot_class_proportions(y_train, y_test, labels)\n",
        "plot_learning_curve(model, X_train, y_train)\n",
        "plot_roc(y_test, y_probas, labels)\n",
        "plot_precision_recall(y_test, y_probas, labels)\n",
        "plot_feature_importances(model)"
      ]
    },
    {
      "cell_type": "code",
      "execution_count": null,
      "metadata": {
        "vscode": {
          "languageId": "plaintext"
        },
        "id": "XTyqg3sS1r1B"
      },
      "outputs": [],
      "source": [
        "# [optional] finish the wandb run, necessary in notebooks\n",
        "wandb.finish()"
      ]
    }
  ],
  "metadata": {
    "language_info": {
      "name": "python"
    },
    "colab": {
      "provenance": [],
      "include_colab_link": true
    },
    "kernelspec": {
      "name": "python3",
      "display_name": "Python 3"
    }
  },
  "nbformat": 4,
  "nbformat_minor": 0
}