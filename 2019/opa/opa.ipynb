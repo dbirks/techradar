{
 "cells": [
  {
   "cell_type": "markdown",
   "metadata": {
    "slideshow": {
     "slide_type": "slide"
    }
   },
   "source": [
    "![logo.png](./img/logo.png)"
   ]
  },
  {
   "cell_type": "markdown",
   "metadata": {
    "slideshow": {
     "slide_type": "slide"
    }
   },
   "source": [
    "## Open Policy Agent\n",
    "\n",
    "A general purpose policy engine\n",
    "\n",
    "With a declarative language: Rego"
   ]
  },
  {
   "cell_type": "markdown",
   "metadata": {
    "slideshow": {
     "slide_type": "slide"
    }
   },
   "source": [
    "### Background\n",
    "\n",
    "Started by Styra in late 2015\n",
    "\n",
    "![commits.png](./img/commits.png)"
   ]
  },
  {
   "cell_type": "markdown",
   "metadata": {
    "slideshow": {
     "slide_type": "fragment"
    }
   },
   "source": [
    "Current version: 1.15.1"
   ]
  },
  {
   "cell_type": "markdown",
   "metadata": {
    "slideshow": {
     "slide_type": "fragment"
    }
   },
   "source": [
    "Adopted into the Cloud Native Computing Foundation in March 2018"
   ]
  },
  {
   "cell_type": "markdown",
   "metadata": {
    "slideshow": {
     "slide_type": "fragment"
    }
   },
   "source": [
    "Currently in the Incubating stage"
   ]
  },
  {
   "cell_type": "markdown",
   "metadata": {
    "slideshow": {
     "slide_type": "fragment"
    }
   },
   "source": [
    "In the Assess stage of Tech Radar (73)"
   ]
  },
  {
   "cell_type": "markdown",
   "metadata": {
    "slideshow": {
     "slide_type": "slide"
    }
   },
   "source": [
    "### General workings\n",
    "\n",
    "Most of the following from Red Hat's blog [here](https://servicesblog.redhat.com/2019/10/16/open-policy-agent-part-i-the-introduction/).\n",
    "\n",
    "![flow.png](./img/flow.png)"
   ]
  },
  {
   "cell_type": "code",
   "execution_count": 1,
   "metadata": {
    "slideshow": {
     "slide_type": "fragment"
    }
   },
   "outputs": [
    {
     "name": "stdout",
     "output_type": "stream",
     "text": [
      "acl.json  policy.rego\n"
     ]
    }
   ],
   "source": [
    "ls src/"
   ]
  },
  {
   "cell_type": "markdown",
   "metadata": {
    "slideshow": {
     "slide_type": "slide"
    }
   },
   "source": [
    "#### Our access control list:"
   ]
  },
  {
   "cell_type": "code",
   "execution_count": 2,
   "metadata": {
    "slideshow": {
     "slide_type": "fragment"
    }
   },
   "outputs": [
    {
     "name": "stdout",
     "output_type": "stream",
     "text": [
      "{\n",
      "  \"nathan\": [\n",
      "    \"read\"\n",
      "  ],\n",
      "  \"bryan\": [\n",
      "    \"read\"\n",
      "  ],\n",
      "  \"courtney\": [\n",
      "    \"read\",\n",
      "    \"write\"\n",
      "  ],\n",
      "  \"kurt\": [\n",
      "    \"read\"\n",
      "  ]\n",
      "}"
     ]
    }
   ],
   "source": [
    "cat src/acl.json"
   ]
  },
  {
   "cell_type": "markdown",
   "metadata": {
    "slideshow": {
     "slide_type": "slide"
    }
   },
   "source": [
    "#### Our policy definition:"
   ]
  },
  {
   "cell_type": "code",
   "execution_count": 3,
   "metadata": {
    "slideshow": {
     "slide_type": "fragment"
    }
   },
   "outputs": [
    {
     "name": "stdout",
     "output_type": "stream",
     "text": [
      "package myapi.policy\n",
      "\n",
      "import data.myapi.acl\n",
      "import input\n",
      "\n",
      "default allow = false\n",
      "\n",
      "allow {\n",
      "        access = acl[input.user]\n",
      "        access[_] == input.access\n",
      "}\n",
      "\n",
      "whocan[user] {\n",
      "        access = acl[user]\n",
      "        access[_] == input.access\n",
      "}"
     ]
    }
   ],
   "source": [
    "cat src/policy.rego"
   ]
  },
  {
   "cell_type": "markdown",
   "metadata": {
    "slideshow": {
     "slide_type": "slide"
    }
   },
   "source": [
    "#### The cli:"
   ]
  },
  {
   "cell_type": "code",
   "execution_count": 4,
   "metadata": {
    "slideshow": {
     "slide_type": "fragment"
    }
   },
   "outputs": [
    {
     "name": "stdout",
     "output_type": "stream",
     "text": [
      "An open source project to policy-enable your service.\n",
      "\n",
      "Usage:\n",
      "  opa [command]\n",
      "\n",
      "Available Commands:\n",
      "  build       Compile Rego policy queries\n",
      "  check       Check Rego source files\n",
      "  deps        Analyze Rego query dependencies\n",
      "  eval        Evaluate a Rego query\n",
      "  fmt         Format Rego source files\n",
      "  help        Help about any command\n",
      "  parse       Parse Rego source file\n",
      "  run         Start OPA in interactive or server mode\n",
      "  test        Execute Rego test cases\n",
      "  version     Print the version of OPA\n",
      "\n",
      "Flags:\n",
      "  -h, --help   help for opa\n",
      "\n",
      "Use \"opa [command] --help\" for more information about a command.\n"
     ]
    }
   ],
   "source": [
    "opa"
   ]
  },
  {
   "cell_type": "markdown",
   "metadata": {
    "slideshow": {
     "slide_type": "slide"
    }
   },
   "source": [
    "#### Start up our server:"
   ]
  },
  {
   "cell_type": "code",
   "execution_count": 7,
   "metadata": {
    "slideshow": {
     "slide_type": "fragment"
    }
   },
   "outputs": [
    {
     "name": "stdout",
     "output_type": "stream",
     "text": [
      "[1] 15815\n"
     ]
    },
    {
     "ename": "",
     "evalue": "1",
     "output_type": "error",
     "traceback": []
    }
   ],
   "source": [
    "opa run --server &"
   ]
  },
  {
   "cell_type": "markdown",
   "metadata": {
    "slideshow": {
     "slide_type": "slide"
    }
   },
   "source": [
    "#### Upload our acl and policy:"
   ]
  },
  {
   "cell_type": "code",
   "execution_count": 8,
   "metadata": {
    "slideshow": {
     "slide_type": "fragment"
    }
   },
   "outputs": [
    {
     "name": "stdout",
     "output_type": "stream",
     "text": [
      "<html>\n",
      "<head><title>404 Not Found</title></head>\n",
      "<body>\n",
      "<center><h1>404 Not Found</h1></center>\n",
      "<hr><center>openresty/1.15.8.1</center>\n",
      "</body>\n",
      "</html>\n"
     ]
    }
   ],
   "source": [
    "curl -X PUT http://localhost:8181/v1/data/myapi/acl \\\n",
    "--data-binary @src/acl.json"
   ]
  },
  {
   "cell_type": "code",
   "execution_count": null,
   "metadata": {
    "slideshow": {
     "slide_type": "fragment"
    }
   },
   "outputs": [],
   "source": [
    "curl -X PUT http://localhost:8181/v1/policies/myapi \\\n",
    "--data-binary @src/policy.rego"
   ]
  },
  {
   "cell_type": "markdown",
   "metadata": {
    "slideshow": {
     "slide_type": "slide"
    }
   },
   "source": [
    "#### And test:"
   ]
  },
  {
   "cell_type": "code",
   "execution_count": null,
   "metadata": {
    "slideshow": {
     "slide_type": "fragment"
    }
   },
   "outputs": [],
   "source": [
    "curl -s -X POST http://localhost:8181/v1/data/myapi/policy/allow \\\n",
    "--data-binary '{ \"input\": { \"user\": \"courtney\", \"access\": \"write\" } }' | jq"
   ]
  },
  {
   "cell_type": "markdown",
   "metadata": {
    "slideshow": {
     "slide_type": "fragment"
    }
   },
   "source": [
    "#### Cleanup:"
   ]
  },
  {
   "cell_type": "code",
   "execution_count": null,
   "metadata": {
    "slideshow": {
     "slide_type": "fragment"
    }
   },
   "outputs": [],
   "source": [
    "pkill opa"
   ]
  },
  {
   "cell_type": "markdown",
   "metadata": {
    "slideshow": {
     "slide_type": "slide"
    }
   },
   "source": [
    "## Other uses"
   ]
  },
  {
   "cell_type": "markdown",
   "metadata": {
    "slideshow": {
     "slide_type": "fragment"
    }
   },
   "source": [
    "Adding user auth to the Docker daemon ([link](https://www.openpolicyagent.org/docs/latest/docker-authorization/))"
   ]
  },
  {
   "cell_type": "markdown",
   "metadata": {
    "slideshow": {
     "slide_type": "fragment"
    }
   },
   "source": [
    "Adding a policy to Terraform ([link](https://www.openpolicyagent.org/docs/latest/terraform/))"
   ]
  },
  {
   "cell_type": "markdown",
   "metadata": {
    "slideshow": {
     "slide_type": "fragment"
    }
   },
   "source": [
    "Only allowing images from a trusted registry in Kubernetes"
   ]
  },
  {
   "cell_type": "markdown",
   "metadata": {
    "slideshow": {
     "slide_type": "fragment"
    }
   },
   "source": [
    "### Future"
   ]
  },
  {
   "cell_type": "markdown",
   "metadata": {
    "slideshow": {
     "slide_type": "fragment"
    }
   },
   "source": [
    "Gatekeeper v3 in beta currently"
   ]
  },
  {
   "cell_type": "markdown",
   "metadata": {
    "slideshow": {
     "slide_type": "fragment"
    }
   },
   "source": [
    "WebAssembly compiler going GA in v0.16"
   ]
  }
 ],
 "metadata": {
  "celltoolbar": "Slideshow",
  "kernelspec": {
   "display_name": "Bash",
   "language": "bash",
   "name": "bash"
  },
  "language_info": {
   "codemirror_mode": "shell",
   "file_extension": ".sh",
   "mimetype": "text/x-sh",
   "name": "bash"
  }
 },
 "nbformat": 4,
 "nbformat_minor": 4
}
