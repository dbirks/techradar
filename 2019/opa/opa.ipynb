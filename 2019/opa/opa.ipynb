{
 "cells": [
  {
   "cell_type": "markdown",
   "metadata": {
    "slideshow": {
     "slide_type": "slide"
    }
   },
   "source": [
    "![logo.png](./img/logo.png)"
   ]
  },
  {
   "cell_type": "markdown",
   "metadata": {
    "slideshow": {
     "slide_type": "slide"
    }
   },
   "source": [
    "## Open Policy Agent\n",
    "\n",
    "A general purpose policy engine\n",
    "\n",
    "With a declarative language: Rego"
   ]
  },
  {
   "cell_type": "markdown",
   "metadata": {
    "slideshow": {
     "slide_type": "slide"
    }
   },
   "source": [
    "### Background\n",
    "\n",
    "Started by Styra in late 2015\n",
    "\n",
    "![commits.png](./img/commits.png)"
   ]
  },
  {
   "cell_type": "markdown",
   "metadata": {
    "slideshow": {
     "slide_type": "fragment"
    }
   },
   "source": [
    "Current version: 1.15.1"
   ]
  },
  {
   "cell_type": "markdown",
   "metadata": {
    "slideshow": {
     "slide_type": "fragment"
    }
   },
   "source": [
    "Adopted into the Cloud Native Computing Foundation in March 2018"
   ]
  },
  {
   "cell_type": "markdown",
   "metadata": {
    "slideshow": {
     "slide_type": "fragment"
    }
   },
   "source": [
    "Currently in the Incubating stage"
   ]
  },
  {
   "cell_type": "markdown",
   "metadata": {
    "slideshow": {
     "slide_type": "fragment"
    }
   },
   "source": [
    "In the Assess stage of Tech Radar (73)"
   ]
  },
  {
   "cell_type": "markdown",
   "metadata": {
    "slideshow": {
     "slide_type": "slide"
    }
   },
   "source": [
    "### General workings\n",
    "\n",
    "Most of the following from Red Hat's blog [here](https://servicesblog.redhat.com/2019/10/16/open-policy-agent-part-i-the-introduction/).\n",
    "\n",
    "![flow.png](./img/flow.png)"
   ]
  },
  {
   "cell_type": "code",
   "execution_count": 1,
   "metadata": {
    "slideshow": {
     "slide_type": "fragment"
    }
   },
   "outputs": [
    {
     "name": "stdout",
     "output_type": "stream",
     "text": [
      "acl.json  policy.rego\n"
     ]
    }
   ],
   "source": [
    "ls src/"
   ]
  },
  {
   "cell_type": "markdown",
   "metadata": {
    "slideshow": {
     "slide_type": "slide"
    }
   },
   "source": [
    "#### Our access control list:"
   ]
  },
  {
   "cell_type": "code",
   "execution_count": 12,
   "metadata": {
    "slideshow": {
     "slide_type": "fragment"
    }
   },
   "outputs": [
    {
     "name": "stdout",
     "output_type": "stream",
     "text": [
      "{\n",
      "  \"nathan\": [\n",
      "    \"read\"\n",
      "  ],\n",
      "  \"bryan\": [\n",
      "    \"read\"\n",
      "  ],\n",
      "  \"courtney\": [\n",
      "    \"read\",\n",
      "    \"write\"\n",
      "  ],\n",
      "  \"kurt\": [\n",
      "    \"read\"\n",
      "  ]\n",
      "}"
     ]
    }
   ],
   "source": [
    "cat src/acl.json"
   ]
  },
  {
   "cell_type": "markdown",
   "metadata": {
    "slideshow": {
     "slide_type": "slide"
    }
   },
   "source": [
    "#### Our policy definition:"
   ]
  },
  {
   "cell_type": "code",
   "execution_count": 15,
   "metadata": {
    "slideshow": {
     "slide_type": "fragment"
    }
   },
   "outputs": [
    {
     "name": "stdout",
     "output_type": "stream",
     "text": [
      "package myapi.policy\n",
      "\n",
      "import data.myapi.acl\n",
      "import input\n",
      "\n",
      "default allow = false\n",
      "\n",
      "allow {\n",
      "        access = acl[input.user]\n",
      "        access[_] == input.access\n",
      "}\n",
      "\n",
      "whocan[user] {\n",
      "        access = acl[user]\n",
      "        access[_] == input.access\n",
      "}"
     ]
    }
   ],
   "source": [
    "cat src/policy.rego"
   ]
  },
  {
   "cell_type": "markdown",
   "metadata": {
    "slideshow": {
     "slide_type": "slide"
    }
   },
   "source": [
    "#### The cli:"
   ]
  },
  {
   "cell_type": "code",
   "execution_count": 17,
   "metadata": {
    "slideshow": {
     "slide_type": "fragment"
    }
   },
   "outputs": [
    {
     "name": "stdout",
     "output_type": "stream",
     "text": [
      "An open source project to policy-enable your service.\n",
      "\n",
      "Usage:\n",
      "  opa [command]\n",
      "\n",
      "Available Commands:\n",
      "  build       Compile Rego policy queries\n",
      "  check       Check Rego source files\n",
      "  deps        Analyze Rego query dependencies\n",
      "  eval        Evaluate a Rego query\n",
      "  fmt         Format Rego source files\n",
      "  help        Help about any command\n",
      "  parse       Parse Rego source file\n",
      "  run         Start OPA in interactive or server mode\n",
      "  test        Execute Rego test cases\n",
      "  version     Print the version of OPA\n",
      "\n",
      "Flags:\n",
      "  -h, --help   help for opa\n",
      "\n",
      "Use \"opa [command] --help\" for more information about a command.\n"
     ]
    }
   ],
   "source": [
    "opa"
   ]
  },
  {
   "cell_type": "markdown",
   "metadata": {
    "slideshow": {
     "slide_type": "slide"
    }
   },
   "source": [
    "#### Start up our server:"
   ]
  },
  {
   "cell_type": "code",
   "execution_count": 18,
   "metadata": {
    "slideshow": {
     "slide_type": "fragment"
    }
   },
   "outputs": [
    {
     "name": "stdout",
     "output_type": "stream",
     "text": [
      "[1] 23084\n"
     ]
    },
    {
     "ename": "",
     "evalue": "1",
     "output_type": "error",
     "traceback": []
    }
   ],
   "source": [
    "opa run --server &"
   ]
  },
  {
   "cell_type": "markdown",
   "metadata": {
    "slideshow": {
     "slide_type": "slide"
    }
   },
   "source": [
    "#### Upload our acl and policy:"
   ]
  },
  {
   "cell_type": "code",
   "execution_count": 32,
   "metadata": {
    "slideshow": {
     "slide_type": "fragment"
    }
   },
   "outputs": [
    {
     "name": "stdout",
     "output_type": "stream",
     "text": [
      "{\"client_addr\":\"[::1]:52536\",\"level\":\"info\",\"msg\":\"Received request.\",\"req_id\":14,\"req_method\":\"PUT\",\"req_path\":\"/v1/data/myapi/acl\",\"time\":\"2019-12-08T01:12:40-05:00\"}\n",
      "{\"client_addr\":\"[::1]:52536\",\"level\":\"info\",\"msg\":\"Sent response.\",\"req_id\":14,\"req_method\":\"PUT\",\"req_path\":\"/v1/data/myapi/acl\",\"resp_bytes\":0,\"resp_duration\":0.340984,\"resp_status\":204,\"time\":\"2019-12-08T01:12:40-05:00\"}\n"
     ]
    }
   ],
   "source": [
    "curl -X PUT http://localhost:8181/v1/data/myapi/acl \\\n",
    "--data-binary @src/acl.json"
   ]
  },
  {
   "cell_type": "code",
   "execution_count": 33,
   "metadata": {
    "slideshow": {
     "slide_type": "fragment"
    }
   },
   "outputs": [
    {
     "name": "stdout",
     "output_type": "stream",
     "text": [
      "{\"client_addr\":\"[::1]:52546\",\"level\":\"info\",\"msg\":\"Received request.\",\"req_id\":15,\"req_method\":\"PUT\",\"req_path\":\"/v1/policies/myapi\",\"time\":\"2019-12-08T01:12:49-05:00\"}\n",
      "{\"client_addr\":\"[::1]:52546\",\"level\":\"info\",\"msg\":\"Sent response.\",\"req_id\":15,\"req_method\":\"PUT\",\"req_path\":\"/v1/policies/myapi\",\"resp_bytes\":2,\"resp_duration\":4.555858,\"resp_status\":200,\"time\":\"2019-12-08T01:12:49-05:00\"}\n",
      "{}"
     ]
    }
   ],
   "source": [
    "curl -X PUT http://localhost:8181/v1/policies/myapi \\\n",
    "--data-binary @src/policy.rego"
   ]
  },
  {
   "cell_type": "markdown",
   "metadata": {
    "slideshow": {
     "slide_type": "slide"
    }
   },
   "source": [
    "#### And test:"
   ]
  },
  {
   "cell_type": "code",
   "execution_count": 36,
   "metadata": {
    "slideshow": {
     "slide_type": "fragment"
    }
   },
   "outputs": [
    {
     "name": "stdout",
     "output_type": "stream",
     "text": [
      "{\"client_addr\":\"[::1]:52576\",\"level\":\"info\",\"msg\":\"Received request.\",\"req_id\":18,\"req_method\":\"POST\",\"req_path\":\"/v1/data/myapi/policy/allow\",\"time\":\"2019-12-08T01:13:16-05:00\"}\n",
      "{\"client_addr\":\"[::1]:52576\",\"level\":\"info\",\"msg\":\"Sent response.\",\"req_id\":18,\"req_method\":\"POST\",\"req_path\":\"/v1/data/myapi/policy/allow\",\"resp_bytes\":15,\"resp_duration\":2.616285,\"resp_status\":200,\"time\":\"2019-12-08T01:13:16-05:00\"}\n",
      "\u001b[1;39m{\n",
      "  \u001b[0m\u001b[34;1m\"result\"\u001b[0m\u001b[1;39m: \u001b[0m\u001b[0;39mtrue\u001b[0m\u001b[1;39m\n",
      "\u001b[1;39m}\u001b[0m\n"
     ]
    }
   ],
   "source": [
    "curl -s -X POST http://localhost:8181/v1/data/myapi/policy/allow \\\n",
    "--data-binary '{ \"input\": { \"user\": \"courtney\", \"access\": \"write\" } }' | jq"
   ]
  },
  {
   "cell_type": "markdown",
   "metadata": {
    "slideshow": {
     "slide_type": "fragment"
    }
   },
   "source": [
    "#### Cleanup:"
   ]
  },
  {
   "cell_type": "code",
   "execution_count": 37,
   "metadata": {
    "slideshow": {
     "slide_type": "fragment"
    }
   },
   "outputs": [
    {
     "name": "stdout",
     "output_type": "stream",
     "text": [
      "{\"level\":\"info\",\"msg\":\"Shutting down...\",\"time\":\"2019-12-08T01:13:44-05:00\"}\n",
      "{\"level\":\"info\",\"msg\":\"Server shutdown.\",\"time\":\"2019-12-08T01:13:44-05:00\"}\n"
     ]
    },
    {
     "ename": "",
     "evalue": "1",
     "output_type": "error",
     "traceback": []
    }
   ],
   "source": [
    "pkill opa"
   ]
  },
  {
   "cell_type": "markdown",
   "metadata": {
    "slideshow": {
     "slide_type": "slide"
    }
   },
   "source": [
    "## Other uses"
   ]
  },
  {
   "cell_type": "markdown",
   "metadata": {
    "slideshow": {
     "slide_type": "fragment"
    }
   },
   "source": [
    "Adding user auth to the Docker daemon ([link](https://www.openpolicyagent.org/docs/latest/docker-authorization/))"
   ]
  },
  {
   "cell_type": "markdown",
   "metadata": {
    "slideshow": {
     "slide_type": "fragment"
    }
   },
   "source": [
    "Adding a policy to Terraform ([link](https://www.openpolicyagent.org/docs/latest/terraform/))"
   ]
  },
  {
   "cell_type": "markdown",
   "metadata": {
    "slideshow": {
     "slide_type": "fragment"
    }
   },
   "source": [
    "Only allowing images from a trusted registry in Kubernetes"
   ]
  },
  {
   "cell_type": "markdown",
   "metadata": {
    "slideshow": {
     "slide_type": "fragment"
    }
   },
   "source": [
    "### Future"
   ]
  },
  {
   "cell_type": "markdown",
   "metadata": {
    "slideshow": {
     "slide_type": "fragment"
    }
   },
   "source": [
    "Gatekeeper v3 in beta currently"
   ]
  },
  {
   "cell_type": "markdown",
   "metadata": {
    "slideshow": {
     "slide_type": "fragment"
    }
   },
   "source": [
    "WebAssembly compiler going GA in v0.16"
   ]
  }
 ],
 "metadata": {
  "celltoolbar": "Slideshow",
  "kernelspec": {
   "display_name": "Bash",
   "language": "bash",
   "name": "bash"
  },
  "language_info": {
   "codemirror_mode": "shell",
   "file_extension": ".sh",
   "mimetype": "text/x-sh",
   "name": "bash"
  }
 },
 "nbformat": 4,
 "nbformat_minor": 4
}
